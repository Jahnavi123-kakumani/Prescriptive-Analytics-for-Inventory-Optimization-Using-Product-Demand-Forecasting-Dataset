{
 "cells": [
  {
   "cell_type": "code",
   "execution_count": null,
   "id": "28da0146",
   "metadata": {},
   "outputs": [],
   "source": [
    "import numpy as np\n",
    "import pandas as pd\n",
    "from scipy import stats\n",
    "import matplotlib.pyplot as plt\n",
    "import matplotlib.patches as mpatches\n",
    "import seaborn as sns\n",
    "import plotly\n",
    "import plotly.express as px\n",
    "import plotly.graph_objects as go\n",
    "from plotly.subplots import make_subplots\n",
    "plotly.offline.init_notebook_mode (connected = True)\n",
    "import ipywidgets as widgets\n",
    "# Colors used\n",
    "colors = ['#FF5851', '#3d9dfc', '#d852fa', '#494a49', '#212121' , '#ffffff', '#727372', '#03fc39']"
   ]
  },
  {
   "cell_type": "code",
   "execution_count": null,
   "id": "eb0b3f04",
   "metadata": {},
   "outputs": [],
   "source": [
    "df=pd.read_csv(\"Historical Product Demand.csv\")\n",
    "df"
   ]
  },
  {
   "cell_type": "markdown",
   "id": "77e2a00e",
   "metadata": {},
   "source": [
    "<p style=\"color:purple;font-size:20px;\">Data Exploration of the Data Set</p>"
   ]
  },
  {
   "cell_type": "code",
   "execution_count": null,
   "id": "71f69bc9",
   "metadata": {},
   "outputs": [],
   "source": [
    "df.head()"
   ]
  },
  {
   "cell_type": "code",
   "execution_count": null,
   "id": "cce4809b",
   "metadata": {},
   "outputs": [],
   "source": [
    "df.tail()"
   ]
  },
  {
   "cell_type": "markdown",
   "id": "0fe67a33",
   "metadata": {},
   "source": [
    "<p style=\"color:MediumVioletred;font-size:20px;\">Check Datatype</p>"
   ]
  },
  {
   "cell_type": "code",
   "execution_count": null,
   "id": "5a80d58f",
   "metadata": {},
   "outputs": [],
   "source": [
    "df.info()"
   ]
  },
  {
   "cell_type": "markdown",
   "id": "9763a1f7",
   "metadata": {},
   "source": [
    "<p style=\"color:MediumVioletRed;font-size:20px;\">Check Statistics of data set</p>"
   ]
  },
  {
   "cell_type": "code",
   "execution_count": null,
   "id": "cd411334",
   "metadata": {},
   "outputs": [],
   "source": [
    "df.describe()"
   ]
  },
  {
   "cell_type": "markdown",
   "id": "05ccee2d",
   "metadata": {},
   "source": [
    "<p style=\"color:MediumVioletRed;font-size:20px;\">Checking Missing Values</p>"
   ]
  },
  {
   "cell_type": "code",
   "execution_count": null,
   "id": "fbb09c84",
   "metadata": {},
   "outputs": [],
   "source": [
    "df.isna().sum()"
   ]
  },
  {
   "cell_type": "markdown",
   "id": "95ac7411",
   "metadata": {},
   "source": [
    "<p style=\"color:MediumVioletRed;font-size:20px;\">Check Duplicates</p>"
   ]
  },
  {
   "cell_type": "code",
   "execution_count": null,
   "id": "e159e621",
   "metadata": {},
   "outputs": [],
   "source": [
    "df.duplicated().sum()"
   ]
  },
  {
   "cell_type": "markdown",
   "id": "276edb29",
   "metadata": {},
   "source": [
    "<p style=\"color:MediumVioletRed;font-size:20px;\">Checking the number of unique values of each column</p>"
   ]
  },
  {
   "cell_type": "code",
   "execution_count": null,
   "id": "17e720b2",
   "metadata": {},
   "outputs": [],
   "source": [
    "df.nunique()"
   ]
  },
  {
   "cell_type": "markdown",
   "id": "4369a21d",
   "metadata": {},
   "source": [
    "<p style=\"color:MediumVioletRed;font-size:20px;\">Print numerical and categorical columns</p>"
   ]
  },
  {
   "cell_type": "code",
   "execution_count": null,
   "id": "835e1e52",
   "metadata": {},
   "outputs": [],
   "source": [
    "numeric_columns = [column for column in df.columns if df[column].dtype != 'O']\n",
    "categorical_columns = [column for column in df.columns if df[column].dtype == 'O']\n",
    "\n",
    "# print columns\n",
    "print('We have {} numerical columns(features) : {}'.format(len(numeric_columns), numeric_columns))\n",
    "print('\\nWe have {} categorical columns(features) : {}'.format(len(categorical_columns), categorical_columns))"
   ]
  },
  {
   "cell_type": "code",
   "execution_count": null,
   "id": "fa23ecc7",
   "metadata": {},
   "outputs": [],
   "source": [
    "import pandas as pd\n",
    "\n",
    "# Load your dataset\n",
    "df = pd.read_csv(\"Historical Product Demand.csv\")\n",
    "\n",
    "# Convert the 'Date' column to datetime\n",
    "df['Date'] = pd.to_datetime(df['Date'])\n",
    "\n",
    "# Ensure 'Order_Demand' is a string before applying string operations\n",
    "df['Order_Demand'] = df['Order_Demand'].astype(str)\n",
    "\n",
    "# Format 'Order_Demand' to numeric\n",
    "df['Order_Demand'] = df['Order_Demand'].str.replace('(', '-')\n",
    "df['Order_Demand'] = df['Order_Demand'].str.replace(')', '')\n",
    "df['Order_Demand'] = pd.to_numeric(df['Order_Demand'])\n",
    "\n",
    "# Check the dataframe\n",
    "print(df.head())\n"
   ]
  },
  {
   "cell_type": "markdown",
   "id": "4fdf158f",
   "metadata": {},
   "source": [
    "Negative Values"
   ]
  },
  {
   "cell_type": "markdown",
   "id": "eb41c469",
   "metadata": {},
   "source": [
    "Order demands in this dataset include negative values. These can be either order adjustments or order returns.\n",
    "Let's take a closer look into this by examining some products that have negative demand values."
   ]
  },
  {
   "cell_type": "code",
   "execution_count": null,
   "id": "090dc531",
   "metadata": {},
   "outputs": [],
   "source": [
    "negative = df.loc[data['Order_Demand'] < 0]\n",
    "negative_pv = pd.pivot_table(negative, values='Order_Demand',index=['Product_Code'], aggfunc=np.sum\n",
    "                            ).rename(columns={'Order_Demand':'Total_Neg'})\n",
    "\n",
    "# Extract positve values and aggregate by product\n",
    "positive = df.loc[df['Order_Demand'] > 0]\n",
    "positive_pv = pd.pivot_table(positive, values='Order_Demand',index=['Product_Code'], aggfunc=np.sum)\n",
    "\n",
    "# Add a column with corresponding total positive value by product and calculate percentage, sort = desc\n",
    "negative_pv['Total_Pos'] = positive_pv.loc[positive_pv.index.isin(negative_pv.index),]\n",
    "negative_pv['Percentage'] = abs(negative_pv['Total_Neg'])*100/negative_pv['Total_Pos']\n",
    "negative_pv = negative_pv.sort_values('Percentage', ascending = False)\n",
    "\n",
    "print(\"Percentage ranges from\",negative_pv['Percentage'].min(),\"to\",negative_pv['Percentage'].max())"
   ]
  },
  {
   "cell_type": "code",
   "execution_count": null,
   "id": "42da2a41",
   "metadata": {},
   "outputs": [],
   "source": [
    "print(\"Demand of Product_0319\")\n",
    "print(df.loc[df['Product_Code'] == 'Product_0319'].head(10))\n",
    "print(\"\\t\")\n",
    "print(\"Demand of Product_0568\")\n",
    "print(df.loc[df['Product_Code'] == 'Product_0568'].head(10))"
   ]
  },
  {
   "cell_type": "markdown",
   "id": "55934e7f",
   "metadata": {},
   "source": [
    "<p style=\"color:MediumVioletRed;font-size:20px;\">Missing Values</p>"
   ]
  },
  {
   "cell_type": "code",
   "execution_count": null,
   "id": "d1540ef7",
   "metadata": {},
   "outputs": [],
   "source": [
    "print(\"The number of products with null is\",len(df['Product_Code'].value_counts().index))"
   ]
  },
  {
   "cell_type": "markdown",
   "id": "d68e6c18",
   "metadata": {},
   "source": [
    "<p style=\"color:MediumVioletRed;font-size:20px;\">Aggregate data by month</p>\n",
    "Forecasting is performed at monthly horizons, thus the dataset should first be aggregated by month. Date is extracted with Month & Year only."
   ]
  },
  {
   "cell_type": "code",
   "execution_count": null,
   "id": "cb0060c2",
   "metadata": {},
   "outputs": [],
   "source": [
    "df['Date'] = df['Date'].dt.to_period('M')\n",
    "df = df.rename(columns = {\"Date\": 'Period'})\n",
    "df = df.groupby(['Product_Code','Period'])['Order_Demand'].sum().reset_index().sort_values('Period'\n",
    "            ).reset_index().drop('index',axis=1)\n",
    "df.head()"
   ]
  },
  {
   "cell_type": "code",
   "execution_count": null,
   "id": "3cb879eb",
   "metadata": {},
   "outputs": [],
   "source": [
    "full_period = pd.date_range('2011-01-01','2016-12-31', freq='MS').to_period('M')\n",
    "full_period = set(full_period)\n",
    "data_period = set(df['Period'])\n",
    "full_period.difference(data_period)\n",
    "# The missing periods are 5 months in 2011, including Feb, Mar, Apr, Jul, and Aug.\n",
    "# There are various possible reasons for the missing periods: No demands are in these months, warehouses to be\n",
    "# closed in these months for some reason, missing data in these periods, etc.\n",
    "# To ensure that the training data will not be misleading, all data before Sep 2011 will be removed.\n",
    "data = data.loc[df['Period'] > '2011-08']"
   ]
  },
  {
   "cell_type": "markdown",
   "id": "3f83dbca",
   "metadata": {},
   "source": [
    "Check to see which products are eligible for forecasting"
   ]
  },
  {
   "cell_type": "raw",
   "id": "365abee8",
   "metadata": {},
   "source": [
    "Some analysis is done to see if any products should be excluded from the forecasting.\n",
    "Several criteria are as below:\n",
    "1/ All data in Jan, 2017 should be removed; otherwise, model interpretation will be misled.\n",
    "Reason: The latest date in this dataset is 2017/01/09 while forecasting is for monthly horizon.\n",
    "2/ Products that have no order quantities in 2016 will be removed.\n",
    "Reason: It is highly likely that the products have been stopped already and will have no future demand. The duration of 1 year helps cover the cases of seasonal products.\n",
    "3/ Products with demand history less than 24 months will be removed.\n",
    "Reason: A minimum of 2 years' data is required to forecast trends and seasonality using statistical forecasting methods. Also, in cases when history is too short (6 months for example), the products are likely to be new products and forecasting methods for new products are different."
   ]
  },
  {
   "cell_type": "code",
   "execution_count": null,
   "id": "5ca6811f",
   "metadata": {},
   "outputs": [],
   "source": [
    "df = df.loc[df['Period']<'2017-01']"
   ]
  },
  {
   "cell_type": "code",
   "execution_count": null,
   "id": "a07a1bb5",
   "metadata": {},
   "outputs": [],
   "source": [
    "# Criteria 2: Remove stopped products\n",
    "latest_datamonth = data.groupby('Product_Code')['Period'].max().reset_index()\n",
    "latest_datamonth = latest_datamonth.loc[latest_datamonth['Period'] > '2015-12']\n",
    "data = df.loc[df['Product_Code'].isin(latest_datamonth['Product_Code'])]"
   ]
  },
  {
   "cell_type": "code",
   "execution_count": null,
   "id": "efc15f26",
   "metadata": {},
   "outputs": [],
   "source": [
    "import pandas as pd\n",
    "from operator import attrgetter\n",
    "\n",
    "\n",
    "# Group by 'Product_Code' and calculate the min and max of 'Period'\n",
    "duration_data = data.groupby('Product_Code').agg({'Period': ['min', 'max']}).reset_index()\n",
    "\n",
    "# Calculate Duration as the difference between max and min periods, then add 1\n",
    "duration_data['Duration'] = (duration_data[('Period', 'max')] - duration_data[('Period', 'min')]).apply(attrgetter('n')) + 1\n",
    "\n",
    "# Filter the rows where Duration is greater than 24\n",
    "duration_data = duration_data.loc[duration_data['Duration'] > 24]\n",
    "\n",
    "# Filter the original data to keep only the relevant 'Product_Code'\n",
    "data = data.loc[data['Product_Code'].isin(duration_data['Product_Code'])]\n",
    "\n",
    "# Display the results\n",
    "print(duration_data)\n",
    "print(data)\n"
   ]
  },
  {
   "cell_type": "markdown",
   "id": "d34c30e5",
   "metadata": {},
   "source": [
    "Construct time series in a columnar format"
   ]
  },
  {
   "cell_type": "code",
   "execution_count": null,
   "id": "84c9046e",
   "metadata": {},
   "outputs": [],
   "source": [
    "data = pd.pivot_table(data, values = 'Order_Demand', index = 'Period', columns = 'Product_Code',aggfunc=np.sum\n",
    "                     ).reset_index().rename_axis(\"\", axis=\"columns\")\n",
    "\n",
    "#Fill in missing values with 0. Months with missing values are implied to have zero demands.\n",
    "data = data.fillna(0)\n",
    "data = data.set_index('Period')\n",
    "data.head()"
   ]
  },
  {
   "cell_type": "code",
   "execution_count": null,
   "id": "9ea9e15b",
   "metadata": {},
   "outputs": [],
   "source": [
    "data=pd.read_csv(\"Historical Product Demand.csv\")\n",
    "fig = go.Figure(data=[go.Pie(labels=[\"Product_0001\", \"Product_0002\"], values=data['Order_Demand'].value_counts(), pull=[0, 0.2])])\n",
    "fig.update_layout(title_text=\"Historical product demand\", plot_bgcolor=colors[3], paper_bgcolor=colors[4], font_color=colors[5])\n",
    "fig.update_traces(marker=dict(colors=[colors[1], colors[0]]))\n",
    "fig.show()"
   ]
  },
  {
   "cell_type": "code",
   "execution_count": null,
   "id": "7fb042c6",
   "metadata": {},
   "outputs": [],
   "source": [
    "# Group data based on 'Date' and calculate total 'Order_Demand'\n",
    "order_demand_per_date = data.head().groupby('Date').sum()['Order_Demand']\n",
    "\n",
    "# Group data based on 'Date' and 'Product_Category' or 'Warehouse' to count orders\n",
    "category_demand = data.head().groupby(['Date', 'Product_Category']).sum()['Order_Demand']\n",
    "warehouse_demand = data.head().groupby(['Date', 'Warehouse']).sum()['Order_Demand']\n",
    "\n",
    "# Prepare DataFrame for plotting\n",
    "category_demand_df = category_demand.unstack().fillna(0)\n",
    "warehouse_demand_df = warehouse_demand.unstack().fillna(0)\n",
    "\n",
    "# Subplots\n",
    "fig = make_subplots(\n",
    "    rows=2, cols=2,\n",
    "    specs=[[{}, {}],\n",
    "           [{\"colspan\": 2}, None]],\n",
    "    subplot_titles=(\n",
    "        \"Order Demand by Category\", \n",
    "        \"Order Demand by Warehouse\", \n",
    "        \"Total Order Demand Over Time\"\n",
    "    )\n",
    ")\n",
    "\n",
    "# Plot: Demand by Category\n",
    "for col in category_demand_df.columns:\n",
    "    fig.add_trace(\n",
    "        go.Scatter(x=category_demand_df.index, y=category_demand_df[col], name=f\"Category: {col}\"),\n",
    "        row=1, col=1\n",
    "    )\n",
    "\n",
    "# Plot: Demand by Warehouse\n",
    "for col in warehouse_demand_df.columns:\n",
    "    fig.add_trace(\n",
    "        go.Scatter(x=warehouse_demand_df.index, y=warehouse_demand_df[col], name=f\"Warehouse: {col}\"),\n",
    "        row=1, col=2\n",
    "    )\n",
    "\n",
    "# Plot: Total Order Demand Over Time\n",
    "fig.add_trace(\n",
    "    go.Scatter(x=order_demand_per_date.index, y=order_demand_per_date, name=\"Total Demand\", marker={'color': colors[2]}),\n",
    "    row=2, col=1\n",
    ")\n",
    "\n",
    "# Layout and axes configs\n",
    "fig.update_layout(\n",
    "    showlegend=True,\n",
    "    title_text=\"Order Demand Analysis Over Time\",\n",
    "    height=650,\n",
    "    plot_bgcolor=colors[3],\n",
    "    paper_bgcolor=colors[4],\n",
    "    font_color=colors[5]\n",
    ")\n",
    "fig.update_xaxes(gridcolor=colors[6], color=colors[5])\n",
    "fig.update_yaxes(gridcolor=colors[6], color=colors[5])\n",
    "\n",
    "# Axes labels\n",
    "fig['layout']['xaxis']['title'] = 'Date'\n",
    "fig['layout']['yaxis']['title'] = 'Order Demand'\n",
    "fig['layout']['xaxis2']['title'] = 'Date'\n",
    "fig['layout']['yaxis2']['title'] = 'Order Demand'\n",
    "fig['layout']['xaxis3']['title'] = 'Date'\n",
    "fig['layout']['yaxis3']['title'] = 'Order Demand (Total)'\n",
    "\n",
    "fig.show()\n"
   ]
  },
  {
   "cell_type": "code",
   "execution_count": null,
   "id": "9f36c6c2",
   "metadata": {},
   "outputs": [],
   "source": [
    "# Layout and axes configuration with a black background\n",
    "fig.update_layout(\n",
    "    title=\"Max-Mean-Min Graph for Order Demand by Product Category\",\n",
    "    title_x=0.5,\n",
    "    height=600,\n",
    "    plot_bgcolor=\"black\",  # Set plot background to black\n",
    "    paper_bgcolor=\"black\",  # Set paper background to black\n",
    "    font_color=\"white\",  # Set font color to white for visibility\n",
    "    xaxis_title=\"Product Category\",\n",
    "    yaxis_title=\"Order Demand\"\n",
    ")\n",
    "fig.update_xaxes(gridcolor=\"gray\", zerolinecolor=\"gray\", color=\"white\")  # Set axes grid and text to light gray/white\n",
    "fig.update_yaxes(gridcolor=\"gray\", zerolinecolor=\"gray\", color=\"white\")\n"
   ]
  },
  {
   "cell_type": "code",
   "execution_count": null,
   "id": "0d571084",
   "metadata": {},
   "outputs": [],
   "source": [
    "# Calculate rows and columns dynamically based on the number of categories\n",
    "num_categories = len(categories)\n",
    "cols = 6  # Fixed number of columns\n",
    "rows = (num_categories // cols) + (num_categories % cols > 0)  # Calculate rows dynamically\n",
    "\n",
    "# Initialize figure\n",
    "fig = plt.figure(figsize=(22, 14))\n",
    "fig.tight_layout(pad=3.0)\n",
    "\n",
    "# Plot parameters\n",
    "plt.rcParams[\"figure.autolayout\"] = True\n",
    "plt.rcParams[\"axes.facecolor\"] = \"black\"  # Set axes background to black\n",
    "plt.rcParams[\"axes.linewidth\"] = 3\n",
    "plt.rcParams[\"xtick.color\"] = \"white\"\n",
    "plt.rcParams[\"ytick.color\"] = \"white\"\n",
    "plt.rcParams[\"axes.labelcolor\"] = \"white\"\n",
    "plt.rcParams[\"text.color\"] = \"white\"\n",
    "plt.rcParams[\"figure.titlesize\"] = 18\n",
    "fig.patch.set_facecolor(\"black\")  # Set figure background to black\n",
    "plt.suptitle(\"Product Demand Density Plot by Category\", color=\"white\")\n",
    "\n",
    "# Subplots for each Product_Category\n",
    "for idx, category in enumerate(categories):\n",
    "    plt.subplot(rows, cols, idx + 1)  # Adjust grid size dynamically\n",
    "    \n",
    "    # Select data for the current category\n",
    "    category_data = data_grouped.get_group(category)\n",
    "    \n",
    "    # Plot KDE for Order_Demand\n",
    "    sns.kdeplot(\n",
    "        x=category_data['Order_Demand'], \n",
    "        linewidth=3, \n",
    "        color=\"cyan\", \n",
    "        label=\"Order Demand\"\n",
    "    )\n",
    "    \n",
    "    # Customize subplot\n",
    "    plt.title(f\"Category: {category}\", color=\"white\")\n",
    "    plt.xlabel(\"Order Demand\", color=\"white\")\n",
    "    plt.ylabel(\"Density\", color=\"white\")\n",
    "    plt.legend(labels=['Order Demand'], loc='upper right', frameon=False)\n",
    "\n",
    "# Display the plot\n",
    "plt.show()\n"
   ]
  },
  {
   "cell_type": "code",
   "execution_count": null,
   "id": "a2e7d31f",
   "metadata": {},
   "outputs": [],
   "source": [
    "pip install pulp"
   ]
  },
  {
   "cell_type": "markdown",
   "id": "fa3c58cb",
   "metadata": {},
   "source": [
    "# Optimization Techniques"
   ]
  },
  {
   "cell_type": "markdown",
   "id": "051a9d75",
   "metadata": {},
   "source": [
    "<p style=\"color:MediumVioletRed;font-size:20px;\">Linear Programming</p>"
   ]
  },
  {
   "cell_type": "code",
   "execution_count": null,
   "id": "98809900",
   "metadata": {},
   "outputs": [],
   "source": [
    "from pulp import LpMaximize, LpProblem, LpVariable, LpInteger\n",
    "\n",
    "# Linear Programming (LP) Example: Resource Allocation\n",
    "def linear_programming_example():\n",
    "    # Create a Linear Programming problem\n",
    "    lp_problem = LpProblem(\"LP_Resource_Allocation\", LpMaximize)\n",
    "\n",
    "    # Decision variables (continuous)\n",
    "    x = LpVariable(\"x\", lowBound=0)  # Product A\n",
    "    y = LpVariable(\"y\", lowBound=0)  # Product B\n",
    "\n",
    "    # Objective Function: Maximize profit\n",
    "    lp_problem += 40 * x + 30 * y, \"Total_Profit\"\n",
    "\n",
    "    # Constraints\n",
    "    lp_problem += 2 * x + y <= 50, \"Material_Availability\"\n",
    "    lp_problem += x + 2 * y <= 40, \"Labor_Availability\"\n",
    "\n",
    "    # Solve the problem\n",
    "    lp_problem.solve()\n",
    "    print(\"Linear Programming Solution:\")\n",
    "    for variable in [x, y]:\n",
    "        print(f\"{variable.name} = {variable.varValue}\")\n",
    "    print(f\"Total Profit = {lp_problem.objective.value()}\")\n",
    "\n",
    "\n",
    "\n",
    "\n",
    "# Run all examples\n",
    "linear_programming_example()\n",
    "\n"
   ]
  },
  {
   "cell_type": "markdown",
   "id": "e591e5c0",
   "metadata": {},
   "source": [
    "<p style=\"color:MediumVioletRed;font-size:20px;\">Integer Programming</p>"
   ]
  },
  {
   "cell_type": "code",
   "execution_count": null,
   "id": "6938d947",
   "metadata": {},
   "outputs": [],
   "source": [
    "# Integer Programming (IP) Example: Scheduling\n",
    "def integer_programming_example():\n",
    "    # Create an Integer Programming problem\n",
    "    ip_problem = LpProblem(\"IP_Scheduling\", LpMaximize)\n",
    "\n",
    "    # Decision variables (integer)\n",
    "    x = LpVariable(\"x\", lowBound=0, cat=LpInteger)  # Task 1\n",
    "    y = LpVariable(\"y\", lowBound=0, cat=LpInteger)  # Task 2\n",
    "\n",
    "    # Objective Function: Maximize task completion value\n",
    "    ip_problem += 10 * x + 15 * y, \"Total_Value\"\n",
    "\n",
    "    # Constraints\n",
    "    ip_problem += x + y <= 5, \"Max_Allowed_Tasks\"\n",
    "    ip_problem += 2 * x + 3 * y <= 10, \"Resource_Constraint\"\n",
    "\n",
    "    # Solve the problem\n",
    "    ip_problem.solve()\n",
    "    print(\"\\nInteger Programming Solution:\")\n",
    "    for variable in [x, y]:\n",
    "        print(f\"{variable.name} = {variable.varValue}\")\n",
    "    print(f\"Total Value = {ip_problem.objective.value()}\")\n",
    "    \n",
    "    \n",
    "integer_programming_example()"
   ]
  },
  {
   "cell_type": "markdown",
   "id": "d4c2d7b8",
   "metadata": {},
   "source": [
    "<p style=\"color:MediumVioletRed;font-size:20px;\">Integer Programming</p>"
   ]
  },
  {
   "cell_type": "code",
   "execution_count": null,
   "id": "211c7914",
   "metadata": {},
   "outputs": [],
   "source": [
    "# Mixed-Integer Linear Programming (MILP) Example: Energy Optimization\n",
    "def mixed_integer_linear_programming_example():\n",
    "    # Create a MILP problem\n",
    "    milp_problem = LpProblem(\"MILP_Energy_Optimization\", LpMaximize)\n",
    "\n",
    "    # Decision variables (mixed: continuous and integer)\n",
    "    x = LpVariable(\"x\", lowBound=0)  # Continuous variable\n",
    "    y = LpVariable(\"y\", lowBound=0, cat=LpInteger)  # Integer variable\n",
    "\n",
    "    # Objective Function: Maximize efficiency\n",
    "    milp_problem += 25 * x + 40 * y, \"Efficiency\"\n",
    "\n",
    "    # Constraints\n",
    "    milp_problem += x + y <= 10, \"Total_Limit\"\n",
    "    milp_problem += 3 * x + 2 * y <= 18, \"Energy_Constraint\"\n",
    "\n",
    "    # Solve the problem\n",
    "    milp_problem.solve()\n",
    "    print(\"\\nMixed-Integer Linear Programming Solution:\")\n",
    "    for variable in [x, y]:\n",
    "        print(f\"{variable.name} = {variable.varValue}\")\n",
    "    print(f\"Efficiency = {milp_problem.objective.value()}\")\n",
    "    \n",
    "    \n",
    "mixed_integer_linear_programming_example()\n",
    "\n"
   ]
  },
  {
   "cell_type": "markdown",
   "id": "9be29117",
   "metadata": {},
   "source": [
    "# Evalution Metrics"
   ]
  },
  {
   "cell_type": "code",
   "execution_count": null,
   "id": "03b4e0dc",
   "metadata": {},
   "outputs": [],
   "source": [
    "# Function to calculate cost, revenue, profit, and profit margin\n",
    "def evaluate_metrics(cost, revenue):\n",
    "    # Calculate profit\n",
    "    profit = revenue - cost\n",
    "    \n",
    "    # Calculate profit margin\n",
    "    if revenue != 0:  # Avoid division by zero\n",
    "        profit_margin = (profit / revenue) * 100\n",
    "    else:\n",
    "        profit_margin = 0\n",
    "    \n",
    "    # Display the results\n",
    "    print(f\"Cost: ${cost}\")\n",
    "    print(f\"Revenue: ${revenue}\")\n",
    "    print(f\"Profit: ${profit}\")\n",
    "    print(f\"Profit Margin: {profit_margin:.2f}%\")\n",
    "\n",
    "# Example usage\n",
    "cost = float(input(\"Enter the total cost: $\"))\n",
    "revenue = float(input(\"Enter the total revenue: $\"))\n",
    "\n",
    "evaluate_metrics(cost, revenue)\n"
   ]
  },
  {
   "cell_type": "code",
   "execution_count": null,
   "id": "9c3faaa5",
   "metadata": {},
   "outputs": [],
   "source": []
  },
  {
   "cell_type": "code",
   "execution_count": null,
   "id": "6b2c21a7",
   "metadata": {},
   "outputs": [],
   "source": []
  },
  {
   "cell_type": "code",
   "execution_count": null,
   "id": "1a8447bf",
   "metadata": {},
   "outputs": [],
   "source": []
  },
  {
   "cell_type": "code",
   "execution_count": null,
   "id": "f0fa382a",
   "metadata": {},
   "outputs": [],
   "source": []
  },
  {
   "cell_type": "code",
   "execution_count": null,
   "id": "b4bc2f0c",
   "metadata": {},
   "outputs": [],
   "source": []
  },
  {
   "cell_type": "code",
   "execution_count": null,
   "id": "8d43a587",
   "metadata": {},
   "outputs": [],
   "source": []
  }
 ],
 "metadata": {
  "kernelspec": {
   "display_name": "Python 3 (ipykernel)",
   "language": "python",
   "name": "python3"
  },
  "language_info": {
   "codemirror_mode": {
    "name": "ipython",
    "version": 3
   },
   "file_extension": ".py",
   "mimetype": "text/x-python",
   "name": "python",
   "nbconvert_exporter": "python",
   "pygments_lexer": "ipython3",
   "version": "3.11.5"
  }
 },
 "nbformat": 4,
 "nbformat_minor": 5
}
